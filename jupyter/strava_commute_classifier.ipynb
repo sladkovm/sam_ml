{
 "cells": [
  {
   "cell_type": "code",
   "execution_count": 289,
   "metadata": {},
   "outputs": [],
   "source": [
    "import json\n",
    "import os\n",
    "import re\n",
    "import fnmatch\n",
    "import pandas as pd\n",
    "import numpy as np\n",
    "import matplotlib.pyplot as plt\n",
    "import pylab as pl\n",
    "import seaborn as sns\n",
    "import sys\n",
    "import tqdm\n",
    "import scipy\n",
    "\n",
    "import sklearn.manifold as sm\n",
    "import sklearn.decomposition as sd\n",
    "import sklearn.model_selection as ms\n",
    "import statsmodels.api as sm\n",
    "import sklearn.preprocessing as spr\n",
    "\n",
    "import sklearn.metrics as sx\n",
    "import sklearn.calibration as sc\n",
    "\n",
    "%matplotlib inline\n",
    "sns.set(style='whitegrid')"
   ]
  },
  {
   "cell_type": "markdown",
   "metadata": {},
   "source": [
    "## General Idea\n",
    "\n",
    "- Build simple logistic regression \n",
    "\n",
    "- See where it gets us\n",
    "\n",
    "- Get valuable features"
   ]
  },
  {
   "cell_type": "markdown",
   "metadata": {},
   "source": [
    "## Disclaimer\n",
    "\n",
    "- Logistic regression works without any magic needed, avg accuracy score: `0.9`, roc-auc: `0.96+`\n",
    "\n",
    "- Features interpretation\n",
    "\n",
    "| Feature        | Pos/Neg effect in commute prob          | Makes sense?  |\n",
    "| ------------- |:-------------| :-----|\n",
    "|distance| Neg | Yes - long distance commutes are unlike\n",
    "| max_speed | Neg | Yes - fast commutes are unlike\n",
    "| nan_fraction | Pos | Yes (if nan fraction means you stop), in commute you tend to stay still more \n",
    "| slow_speed_fraction | Neg | Yes, the less slow speed you have the more likely that you train\n",
    "| average_cadence | Neg | Yes\n",
    "| velocitydiff_std_1m | Pos | Yes, the more volatile your speed, the more likely you're commuting in the city \n",
    "| velocitydiff_mean_5m | Neg | ?, hard to interpret the feature, mb something like - you ride as fast as you can, and its hard to keep the pace for 5m"
   ]
  },
  {
   "cell_type": "markdown",
   "metadata": {},
   "source": [
    "## Unpickling the DF from the notebook: strava_files_dataprep"
   ]
  },
  {
   "cell_type": "code",
   "execution_count": 248,
   "metadata": {
    "collapsed": true
   },
   "outputs": [],
   "source": [
    "activity_df = pd.read_pickle('activity_df', compression=\"bz2\")\n",
    "stream_df = pd.read_pickle(\"stream_features\", compression=\"bz2\")\n",
    "df = activity_df.merge(stream_df, left_index=True, right_index=True, how='left')"
   ]
  },
  {
   "cell_type": "code",
   "execution_count": 249,
   "metadata": {},
   "outputs": [
    {
     "data": {
      "text/plain": [
       "Index(['average_cadence', 'average_heartrate', 'average_speed', 'average_temp',\n",
       "       'average_watts', 'commute', 'device_watts', 'distance', 'elapsed_time',\n",
       "       'has_heartrate', 'kilojoules', 'latlng', 'manual', 'max_speed',\n",
       "       'moving_time', 'premium', 'acf0_10m', 'acf0_1m', 'acf0_5m',\n",
       "       'nan_fraction', 'slow_speed_fraction', 'velocitydiff_mean_10m',\n",
       "       'velocitydiff_mean_1m', 'velocitydiff_mean_5m', 'velocitydiff_std_10m',\n",
       "       'velocitydiff_std_1m', 'velocitydiff_std_5m'],\n",
       "      dtype='object')"
      ]
     },
     "execution_count": 249,
     "metadata": {},
     "output_type": "execute_result"
    }
   ],
   "source": [
    "df.columns"
   ]
  },
  {
   "cell_type": "code",
   "execution_count": 250,
   "metadata": {
    "collapsed": true
   },
   "outputs": [],
   "source": [
    "training_cols =  ['average_speed', 'distance', 'has_heartrate', 'max_speed']+\\\n",
    "                 ['nan_fraction', 'slow_speed_fraction', 'average_heartrate', 'average_cadence']+\\\n",
    "                 ['velocitydiff_mean_1m', 'velocitydiff_std_1m', 'velocitydiff_mean_5m', 'velocitydiff_std_5m'] +\\\n",
    "                 ['acf0_1m', 'acf0_5m', 'acf0_10m']"
   ]
  },
  {
   "cell_type": "code",
   "execution_count": 251,
   "metadata": {},
   "outputs": [],
   "source": [
    "dfn = df[training_cols].copy().apply(pd.to_numeric, errors='coerce').fillna(0)\n",
    "\n",
    "# using the same heuristics for labeling\n",
    "# 1. what lableled as commute is commute\n",
    "# 2. power meter and no commute - is training\n",
    "\n",
    "commute = (df['commute'] == 1).astype(int)\n",
    "training = ( df['device_watts'] & ~df['commute']).astype(int)\n",
    "\n",
    "target = pd.Series(index=df.index)\n",
    "target.loc[commute == 1] = int(1)\n",
    "target.loc[training == 1] = int(0)\n",
    "\n",
    "exog = dfn[target.notnull()].copy()\n",
    "scaler = spr.StandardScaler().fit(exog)\n",
    "\n",
    "X = scaler.transform(exog)\n",
    "y = target[target.notnull()].astype(int)"
   ]
  },
  {
   "cell_type": "markdown",
   "metadata": {},
   "source": [
    "# Making simple logistic regression"
   ]
  },
  {
   "cell_type": "code",
   "execution_count": 277,
   "metadata": {},
   "outputs": [
    {
     "name": "stdout",
     "output_type": "stream",
     "text": [
      "Optimization terminated successfully.    (Exit mode 0)\n",
      "            Current function value: 0.2180179652467582\n",
      "            Iterations: 97\n",
      "            Function evaluations: 97\n",
      "            Gradient evaluations: 97\n"
     ]
    },
    {
     "data": {
      "text/html": [
       "<table class=\"simpletable\">\n",
       "<tr>\n",
       "        <td>Model:</td>              <td>Logit</td>      <td>Pseudo R-squared:</td>    <td>0.682</td>   \n",
       "</tr>\n",
       "<tr>\n",
       "  <td>Dependent Variable:</td>         <td>y</td>              <td>AIC:</td>         <td>593.1782</td>  \n",
       "</tr>\n",
       "<tr>\n",
       "         <td>Date:</td>        <td>2017-12-05 11:56</td>       <td>BIC:</td>         <td>675.7393</td>  \n",
       "</tr>\n",
       "<tr>\n",
       "   <td>No. Observations:</td>        <td>1287</td>        <td>Log-Likelihood:</td>    <td>-280.59</td>  \n",
       "</tr>\n",
       "<tr>\n",
       "       <td>Df Model:</td>             <td>15</td>            <td>LL-Null:</td>        <td>-882.96</td>  \n",
       "</tr>\n",
       "<tr>\n",
       "     <td>Df Residuals:</td>          <td>1271</td>         <td>LLR p-value:</td>    <td>1.5610e-247</td>\n",
       "</tr>\n",
       "<tr>\n",
       "      <td>Converged:</td>            <td>True</td>            <td>Scale:</td>         <td>1.0000</td>   \n",
       "</tr>\n",
       "<tr>\n",
       "    <td>No. Iterations:</td>        <td>97.0000</td>             <td></td>               <td></td>      \n",
       "</tr>\n",
       "</table>\n",
       "<table class=\"simpletable\">\n",
       "<tr>\n",
       "    <td></td>     <th>Coef.</th>  <th>Std.Err.</th>     <th>z</th>     <th>P>|z|</th> <th>[0.025</th>  <th>0.975]</th> \n",
       "</tr>\n",
       "<tr>\n",
       "  <th>x1</th>    <td>-0.1368</td>  <td>0.1769</td>   <td>-0.7735</td> <td>0.4392</td> <td>-0.4836</td> <td>0.2099</td> \n",
       "</tr>\n",
       "<tr>\n",
       "  <th>x2</th>    <td>-2.1509</td>  <td>0.3157</td>   <td>-6.8133</td> <td>0.0000</td> <td>-2.7696</td> <td>-1.5321</td>\n",
       "</tr>\n",
       "<tr>\n",
       "  <th>x3</th>    <td>-0.8677</td>  <td>0.6240</td>   <td>-1.3907</td> <td>0.1643</td> <td>-2.0907</td> <td>0.3552</td> \n",
       "</tr>\n",
       "<tr>\n",
       "  <th>x4</th>    <td>-0.4799</td>  <td>0.1703</td>   <td>-2.8184</td> <td>0.0048</td> <td>-0.8137</td> <td>-0.1462</td>\n",
       "</tr>\n",
       "<tr>\n",
       "  <th>x5</th>    <td>0.4390</td>   <td>0.1439</td>   <td>3.0500</td>  <td>0.0023</td> <td>0.1569</td>  <td>0.7212</td> \n",
       "</tr>\n",
       "<tr>\n",
       "  <th>x6</th>    <td>-0.5235</td>  <td>0.1740</td>   <td>-3.0078</td> <td>0.0026</td> <td>-0.8646</td> <td>-0.1824</td>\n",
       "</tr>\n",
       "<tr>\n",
       "  <th>x7</th>    <td>0.6237</td>   <td>0.6200</td>   <td>1.0058</td>  <td>0.3145</td> <td>-0.5916</td> <td>1.8389</td> \n",
       "</tr>\n",
       "<tr>\n",
       "  <th>x8</th>    <td>-2.2925</td>  <td>0.2242</td>  <td>-10.2245</td> <td>0.0000</td> <td>-2.7320</td> <td>-1.8530</td>\n",
       "</tr>\n",
       "<tr>\n",
       "  <th>x9</th>    <td>0.2583</td>   <td>0.1857</td>   <td>1.3907</td>  <td>0.1643</td> <td>-0.1057</td> <td>0.6223</td> \n",
       "</tr>\n",
       "<tr>\n",
       "  <th>x10</th>   <td>0.8095</td>   <td>0.2494</td>   <td>3.2455</td>  <td>0.0012</td> <td>0.3207</td>  <td>1.2984</td> \n",
       "</tr>\n",
       "<tr>\n",
       "  <th>x11</th>   <td>-0.3871</td>  <td>0.1862</td>   <td>-2.0795</td> <td>0.0376</td> <td>-0.7520</td> <td>-0.0223</td>\n",
       "</tr>\n",
       "<tr>\n",
       "  <th>x12</th>   <td>-0.5238</td>  <td>0.2720</td>   <td>-1.9255</td> <td>0.0542</td> <td>-1.0569</td> <td>0.0094</td> \n",
       "</tr>\n",
       "<tr>\n",
       "  <th>x13</th>   <td>-0.0015</td>  <td>0.2484</td>   <td>-0.0060</td> <td>0.9952</td> <td>-0.4882</td> <td>0.4853</td> \n",
       "</tr>\n",
       "<tr>\n",
       "  <th>x14</th>   <td>-0.0513</td>  <td>0.3208</td>   <td>-0.1600</td> <td>0.8729</td> <td>-0.6801</td> <td>0.5775</td> \n",
       "</tr>\n",
       "<tr>\n",
       "  <th>x15</th>   <td>0.3412</td>   <td>0.2677</td>   <td>1.2746</td>  <td>0.2025</td> <td>-0.1835</td> <td>0.8658</td> \n",
       "</tr>\n",
       "<tr>\n",
       "  <th>const</th> <td>-0.1144</td>  <td>0.1655</td>   <td>-0.6914</td> <td>0.4893</td> <td>-0.4388</td> <td>0.2100</td> \n",
       "</tr>\n",
       "</table>"
      ],
      "text/plain": [
       "<class 'statsmodels.iolib.summary2.Summary'>\n",
       "\"\"\"\n",
       "                          Results: Logit\n",
       "==================================================================\n",
       "Model:              Logit            Pseudo R-squared: 0.682      \n",
       "Dependent Variable: y                AIC:              593.1782   \n",
       "Date:               2017-12-05 11:56 BIC:              675.7393   \n",
       "No. Observations:   1287             Log-Likelihood:   -280.59    \n",
       "Df Model:           15               LL-Null:          -882.96    \n",
       "Df Residuals:       1271             LLR p-value:      1.5610e-247\n",
       "Converged:          True             Scale:            1.0000     \n",
       "No. Iterations:     97.0000                                       \n",
       "--------------------------------------------------------------------\n",
       "           Coef.    Std.Err.      z       P>|z|     [0.025    0.975]\n",
       "--------------------------------------------------------------------\n",
       "x1        -0.1368     0.1769    -0.7735   0.4392   -0.4836    0.2099\n",
       "x2        -2.1509     0.3157    -6.8133   0.0000   -2.7696   -1.5321\n",
       "x3        -0.8677     0.6240    -1.3907   0.1643   -2.0907    0.3552\n",
       "x4        -0.4799     0.1703    -2.8184   0.0048   -0.8137   -0.1462\n",
       "x5         0.4390     0.1439     3.0500   0.0023    0.1569    0.7212\n",
       "x6        -0.5235     0.1740    -3.0078   0.0026   -0.8646   -0.1824\n",
       "x7         0.6237     0.6200     1.0058   0.3145   -0.5916    1.8389\n",
       "x8        -2.2925     0.2242   -10.2245   0.0000   -2.7320   -1.8530\n",
       "x9         0.2583     0.1857     1.3907   0.1643   -0.1057    0.6223\n",
       "x10        0.8095     0.2494     3.2455   0.0012    0.3207    1.2984\n",
       "x11       -0.3871     0.1862    -2.0795   0.0376   -0.7520   -0.0223\n",
       "x12       -0.5238     0.2720    -1.9255   0.0542   -1.0569    0.0094\n",
       "x13       -0.0015     0.2484    -0.0060   0.9952   -0.4882    0.4853\n",
       "x14       -0.0513     0.3208    -0.1600   0.8729   -0.6801    0.5775\n",
       "x15        0.3412     0.2677     1.2746   0.2025   -0.1835    0.8658\n",
       "const     -0.1144     0.1655    -0.6914   0.4893   -0.4388    0.2100\n",
       "==================================================================\n",
       "\n",
       "\"\"\""
      ]
     },
     "execution_count": 277,
     "metadata": {},
     "output_type": "execute_result"
    }
   ],
   "source": [
    "X_train, X_test, y_train, y_test = ms.train_test_split(sm.add_constant(X, prepend=False), y)\n",
    "lr = sm.Logit(y_train, X_train).fit_regularized(refit=False) \n",
    "lr.summary2()"
   ]
  },
  {
   "cell_type": "markdown",
   "metadata": {},
   "source": [
    "Important / Not important cols"
   ]
  },
  {
   "cell_type": "code",
   "execution_count": 287,
   "metadata": {
    "scrolled": true
   },
   "outputs": [
    {
     "name": "stdout",
     "output_type": "stream",
     "text": [
      "Not important cols, (95conf. interval crosses 0)\n"
     ]
    },
    {
     "data": {
      "text/html": [
       "<div>\n",
       "<style scoped>\n",
       "    .dataframe tbody tr th:only-of-type {\n",
       "        vertical-align: middle;\n",
       "    }\n",
       "\n",
       "    .dataframe tbody tr th {\n",
       "        vertical-align: top;\n",
       "    }\n",
       "\n",
       "    .dataframe thead th {\n",
       "        text-align: right;\n",
       "    }\n",
       "</style>\n",
       "<table border=\"1\" class=\"dataframe\">\n",
       "  <thead>\n",
       "    <tr style=\"text-align: right;\">\n",
       "      <th></th>\n",
       "      <th>0</th>\n",
       "      <th>1</th>\n",
       "    </tr>\n",
       "  </thead>\n",
       "  <tbody>\n",
       "    <tr>\n",
       "      <th>average_speed</th>\n",
       "      <td>-0.483597</td>\n",
       "      <td>0.209907</td>\n",
       "    </tr>\n",
       "    <tr>\n",
       "      <th>has_heartrate</th>\n",
       "      <td>-2.090687</td>\n",
       "      <td>0.355196</td>\n",
       "    </tr>\n",
       "    <tr>\n",
       "      <th>average_heartrate</th>\n",
       "      <td>-0.591613</td>\n",
       "      <td>1.838924</td>\n",
       "    </tr>\n",
       "    <tr>\n",
       "      <th>velocitydiff_mean_1m</th>\n",
       "      <td>-0.105720</td>\n",
       "      <td>0.622291</td>\n",
       "    </tr>\n",
       "    <tr>\n",
       "      <th>velocitydiff_std_5m</th>\n",
       "      <td>-1.056932</td>\n",
       "      <td>0.009382</td>\n",
       "    </tr>\n",
       "    <tr>\n",
       "      <th>acf0_1m</th>\n",
       "      <td>-0.488249</td>\n",
       "      <td>0.485285</td>\n",
       "    </tr>\n",
       "    <tr>\n",
       "      <th>acf0_5m</th>\n",
       "      <td>-0.680103</td>\n",
       "      <td>0.577452</td>\n",
       "    </tr>\n",
       "    <tr>\n",
       "      <th>acf0_10m</th>\n",
       "      <td>-0.183460</td>\n",
       "      <td>0.865827</td>\n",
       "    </tr>\n",
       "    <tr>\n",
       "      <th>const</th>\n",
       "      <td>-0.438836</td>\n",
       "      <td>0.209959</td>\n",
       "    </tr>\n",
       "  </tbody>\n",
       "</table>\n",
       "</div>"
      ],
      "text/plain": [
       "                             0         1\n",
       "average_speed        -0.483597  0.209907\n",
       "has_heartrate        -2.090687  0.355196\n",
       "average_heartrate    -0.591613  1.838924\n",
       "velocitydiff_mean_1m -0.105720  0.622291\n",
       "velocitydiff_std_5m  -1.056932  0.009382\n",
       "acf0_1m              -0.488249  0.485285\n",
       "acf0_5m              -0.680103  0.577452\n",
       "acf0_10m             -0.183460  0.865827\n",
       "const                -0.438836  0.209959"
      ]
     },
     "execution_count": 287,
     "metadata": {},
     "output_type": "execute_result"
    }
   ],
   "source": [
    "conf_int = pd.DataFrame(lr.conf_int()).set_index(pd.Index(training_cols + ['const']))\n",
    "not_important_mask = (conf_int[0] < 0) & (conf_int[1] > 0)\n",
    "print(\"Not important cols, (95conf. interval crosses 0)\")\n",
    "conf_int[not_important_mask] "
   ]
  },
  {
   "cell_type": "markdown",
   "metadata": {},
   "source": [
    "Important cols"
   ]
  },
  {
   "cell_type": "code",
   "execution_count": 286,
   "metadata": {},
   "outputs": [
    {
     "data": {
      "text/html": [
       "<div>\n",
       "<style scoped>\n",
       "    .dataframe tbody tr th:only-of-type {\n",
       "        vertical-align: middle;\n",
       "    }\n",
       "\n",
       "    .dataframe tbody tr th {\n",
       "        vertical-align: top;\n",
       "    }\n",
       "\n",
       "    .dataframe thead th {\n",
       "        text-align: right;\n",
       "    }\n",
       "</style>\n",
       "<table border=\"1\" class=\"dataframe\">\n",
       "  <thead>\n",
       "    <tr style=\"text-align: right;\">\n",
       "      <th></th>\n",
       "      <th>0</th>\n",
       "      <th>1</th>\n",
       "    </tr>\n",
       "  </thead>\n",
       "  <tbody>\n",
       "    <tr>\n",
       "      <th>distance</th>\n",
       "      <td>-2.769589</td>\n",
       "      <td>-1.532131</td>\n",
       "    </tr>\n",
       "    <tr>\n",
       "      <th>max_speed</th>\n",
       "      <td>-0.813677</td>\n",
       "      <td>-0.146179</td>\n",
       "    </tr>\n",
       "    <tr>\n",
       "      <th>nan_fraction</th>\n",
       "      <td>0.156902</td>\n",
       "      <td>0.721154</td>\n",
       "    </tr>\n",
       "    <tr>\n",
       "      <th>slow_speed_fraction</th>\n",
       "      <td>-0.864557</td>\n",
       "      <td>-0.182359</td>\n",
       "    </tr>\n",
       "    <tr>\n",
       "      <th>average_cadence</th>\n",
       "      <td>-2.731963</td>\n",
       "      <td>-1.853048</td>\n",
       "    </tr>\n",
       "    <tr>\n",
       "      <th>velocitydiff_std_1m</th>\n",
       "      <td>0.320665</td>\n",
       "      <td>1.298431</td>\n",
       "    </tr>\n",
       "    <tr>\n",
       "      <th>velocitydiff_mean_5m</th>\n",
       "      <td>-0.752026</td>\n",
       "      <td>-0.022257</td>\n",
       "    </tr>\n",
       "  </tbody>\n",
       "</table>\n",
       "</div>"
      ],
      "text/plain": [
       "                             0         1\n",
       "distance             -2.769589 -1.532131\n",
       "max_speed            -0.813677 -0.146179\n",
       "nan_fraction          0.156902  0.721154\n",
       "slow_speed_fraction  -0.864557 -0.182359\n",
       "average_cadence      -2.731963 -1.853048\n",
       "velocitydiff_std_1m   0.320665  1.298431\n",
       "velocitydiff_mean_5m -0.752026 -0.022257"
      ]
     },
     "execution_count": 286,
     "metadata": {},
     "output_type": "execute_result"
    }
   ],
   "source": [
    "conf_int[~not_important_mask] "
   ]
  },
  {
   "cell_type": "markdown",
   "metadata": {},
   "source": [
    "## Making sure the classifier is calibrated \n",
    "\n",
    "(looks like it is ok)"
   ]
  },
  {
   "cell_type": "code",
   "execution_count": 255,
   "metadata": {},
   "outputs": [
    {
     "name": "stdout",
     "output_type": "stream",
     "text": [
      "\n"
     ]
    },
    {
     "data": {
      "image/png": "[encoded data removed]",
      "text/plain": [
       "<matplotlib.figure.Figure at 0x7f923b2be390>"
      ]
     },
     "metadata": {},
     "output_type": "display_data"
    }
   ],
   "source": [
    "def wilson(p, n, z=1.96):\n",
    "    return z * np.sqrt((p * (1 - p) + z * z / (4 * n)) / n) / (1 + z * z / n)\n",
    "\n",
    "n_bins=10\n",
    "T_test_pred = lr.predict(X_test)\n",
    "p_true, p_pred = sc.calibration_curve(y_test, \n",
    "                                      T_test_pred, \n",
    "                                      n_bins=n_bins)\n",
    "\n",
    "bins = np.linspace(0., 1. + 1e-8, n_bins + 1)\n",
    "binids = np.digitize(T_test_pred, bins) - 1\n",
    "bin_total = np.bincount(binids, minlength=len(bins))\n",
    "ci = wilson(p_true, bin_total[bin_total != 0])\n",
    "\n",
    "fig, ax = pl.subplots(figsize=(5, 5))\n",
    "ax.plot(p_pred, p_true)\n",
    "ax.fill_between(p_pred, p_true-ci, p_true+ci, alpha=0.1)\n",
    "ax.set_xlim(0, 1)\n",
    "ax.set_xlabel(\"$P_{pred}$\")\n",
    "ax.set_ylim(0, 1)\n",
    "ax.set_ylabel(\"$P_{true}$\")\n",
    "print()"
   ]
  },
  {
   "cell_type": "markdown",
   "metadata": {},
   "source": [
    "## A bit of bootstraping to get aggregated performance overview"
   ]
  },
  {
   "cell_type": "code",
   "execution_count": null,
   "metadata": {},
   "outputs": [],
   "source": [
    "n_splits = 4\n",
    "n_repeats = 30\n",
    "rkf = ms.RepeatedKFold(n_splits=n_splits, n_repeats=n_repeats)\n",
    "classifier_stats = []\n",
    "\n",
    "for train_index, test_index in tqdm.tqdm_notebook(rkf.split(sm.add_constant(X,prepend=False)), total=n_splits*n_repeats):\n",
    "    X_train, X_test, y_train, y_test = X[train_index], X[test_index], y[train_index], y[test_index]\n",
    "    lr = sm.Logit(y_train, X_train).fit_regularized(refit=True)    \n",
    "    pred = lr.predict(X_test)    \n",
    "    classifier_stats.append({\n",
    "        'roc_auc': sx.roc_auc_score(y_true=y_test, y_score=pred),\n",
    "        'acc_score': sx.accuracy_score(y_true=y_test, y_pred=pred>0.5)\n",
    "        }\n",
    "    )"
   ]
  },
  {
   "cell_type": "markdown",
   "metadata": {},
   "source": [
    "## The resiults are: med accuracy score: 90%, med roc_auc: 0.96+"
   ]
  },
  {
   "cell_type": "code",
   "execution_count": 288,
   "metadata": {},
   "outputs": [
    {
     "name": "stdout",
     "output_type": "stream",
     "text": [
      "\n"
     ]
    },
    {
     "data": {
      "image/png": "[encoded data removed]",
      "text/plain": [
       "<matplotlib.figure.Figure at 0x7f923b0bbbe0>"
      ]
     },
     "metadata": {},
     "output_type": "display_data"
    }
   ],
   "source": [
    "pd.DataFrame(classifier_stats).boxplot(figsize=(8,4))\n",
    "print()"
   ]
  }
 ],
 "metadata": {
  "kernelspec": {
   "display_name": "Python 3",
   "language": "python",
   "name": "python3"
  },
  "language_info": {
   "codemirror_mode": {
    "name": "ipython",
    "version": 3
   },
   "file_extension": ".py",
   "mimetype": "text/x-python",
   "name": "python",
   "nbconvert_exporter": "python",
   "pygments_lexer": "ipython3",
   "version": "3.6.2"
  }
 },
 "nbformat": 4,
 "nbformat_minor": 2
}
